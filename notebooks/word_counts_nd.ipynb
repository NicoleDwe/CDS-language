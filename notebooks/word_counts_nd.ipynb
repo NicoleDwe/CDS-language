{
 "cells": [
  {
   "cell_type": "markdown",
   "metadata": {},
   "source": [
    "# Assignment 1: Basic Scripting with Python (word counts)"
   ]
  },
  {
   "cell_type": "markdown",
   "metadata": {},
   "source": [
    "Nicole Dwenger - 2021/02/03"
   ]
  },
  {
   "cell_type": "markdown",
   "metadata": {},
   "source": [
    "---"
   ]
  },
  {
   "cell_type": "markdown",
   "metadata": {},
   "source": [
    "### Instructions"
   ]
  },
  {
   "cell_type": "markdown",
   "metadata": {},
   "source": [
    "__Basic scripting with Python__\n",
    "Using the corpus called 100-english-novels found on the cds-language GitHub repo, write a Python programme which does the following:\n",
    "- Calculate the total word count for each novel\n",
    "- Calculate the total number of unique words for each novel\n",
    "- Save result as a single file consisting of three columns: filename, total_words, unique_words\n",
    "\n",
    "__General instructions__\n",
    "- For this exercise, you can upload either a standalone script OR a Jupyter Notebook\n",
    "- Save your script as word_counts.py OR word_counts.ipynb\n",
    "- You can either upload the script/notebook here or push to GitHub and include a link - or both!\n",
    "- Your code should be clearly documented in a way that allows others to easily follow the structure of your script.\n",
    "- Similarly, remember to use descriptive variable names! A name like word_count is more readable than wcnt.\n",
    "\n",
    "__Purpose__\n",
    "This assignment is designed to test that you have a understanding of:\n",
    "- how to structure, document, and share a Python script;\n",
    "- how to effectively make use of native Python data structures, functions, and flow control;\n",
    "- how to load, save, and process text files."
   ]
  },
  {
   "cell_type": "markdown",
   "metadata": {},
   "source": [
    "-------"
   ]
  },
  {
   "cell_type": "markdown",
   "metadata": {},
   "source": [
    "### Dependencies and Data"
   ]
  },
  {
   "cell_type": "code",
   "execution_count": 2,
   "metadata": {},
   "outputs": [],
   "source": [
    "# load necessary dependencies\n",
    "import os\n",
    "from pathlib import Path\n",
    "import pandas as pd"
   ]
  },
  {
   "cell_type": "code",
   "execution_count": 3,
   "metadata": {},
   "outputs": [],
   "source": [
    "# define path to load data files\n",
    "data_path = os.path.join(\"..\", \"data\", \"100_english_novels\", \"corpus\")"
   ]
  },
  {
   "cell_type": "markdown",
   "metadata": {},
   "source": [
    "### Interatig over files to save information in a dataframe"
   ]
  },
  {
   "cell_type": "code",
   "execution_count": 4,
   "metadata": {},
   "outputs": [],
   "source": [
    "# create empty data frame so that data can be saved in it\n",
    "df_word_counts = pd.DataFrame(columns=[\"filename\", \"total_words\", \"unique_words\"])"
   ]
  },
  {
   "cell_type": "code",
   "execution_count": 5,
   "metadata": {},
   "outputs": [],
   "source": [
    "# loop to get number of words, unqiue words and save info in df_word_counts\n",
    "for filepath in Path(data_path).glob(\"*.txt\"):\n",
    "    with open(filepath, \"r\", encoding = \"utf-8\") as file:\n",
    "        \n",
    "        # read file and get info\n",
    "        loaded_text = file.read() # read file \n",
    "        filename = Path(filepath).name # extract filename\n",
    "        words = loaded_text.split() # split into words\n",
    "        unique_words = set(words) # keep the unique words\n",
    "       \n",
    "        # append row with info to df\n",
    "        df_word_counts = df_word_counts.append({\"filename\": filename, \n",
    "                                                \"total_words\": len(words), \n",
    "                                                \"unique_words\": len(unique_words)}, ignore_index = True)"
   ]
  },
  {
   "cell_type": "code",
   "execution_count": 6,
   "metadata": {},
   "outputs": [
    {
     "data": {
      "text/html": [
       "<div>\n",
       "<style scoped>\n",
       "    .dataframe tbody tr th:only-of-type {\n",
       "        vertical-align: middle;\n",
       "    }\n",
       "\n",
       "    .dataframe tbody tr th {\n",
       "        vertical-align: top;\n",
       "    }\n",
       "\n",
       "    .dataframe thead th {\n",
       "        text-align: right;\n",
       "    }\n",
       "</style>\n",
       "<table border=\"1\" class=\"dataframe\">\n",
       "  <thead>\n",
       "    <tr style=\"text-align: right;\">\n",
       "      <th></th>\n",
       "      <th>filename</th>\n",
       "      <th>total_words</th>\n",
       "      <th>unique_words</th>\n",
       "    </tr>\n",
       "  </thead>\n",
       "  <tbody>\n",
       "    <tr>\n",
       "      <th>0</th>\n",
       "      <td>Cbronte_Villette_1853.txt</td>\n",
       "      <td>196557</td>\n",
       "      <td>29084</td>\n",
       "    </tr>\n",
       "    <tr>\n",
       "      <th>1</th>\n",
       "      <td>Forster_Angels_1905.txt</td>\n",
       "      <td>50477</td>\n",
       "      <td>9464</td>\n",
       "    </tr>\n",
       "    <tr>\n",
       "      <th>2</th>\n",
       "      <td>Woolf_Lighthouse_1927.txt</td>\n",
       "      <td>70185</td>\n",
       "      <td>11157</td>\n",
       "    </tr>\n",
       "    <tr>\n",
       "      <th>3</th>\n",
       "      <td>Meredith_Richmond_1871.txt</td>\n",
       "      <td>214985</td>\n",
       "      <td>28892</td>\n",
       "    </tr>\n",
       "    <tr>\n",
       "      <th>4</th>\n",
       "      <td>Stevenson_Treasure_1883.txt</td>\n",
       "      <td>68448</td>\n",
       "      <td>10831</td>\n",
       "    </tr>\n",
       "    <tr>\n",
       "      <th>...</th>\n",
       "      <td>...</td>\n",
       "      <td>...</td>\n",
       "      <td>...</td>\n",
       "    </tr>\n",
       "    <tr>\n",
       "      <th>95</th>\n",
       "      <td>Chesterton_Thursday_1908.txt</td>\n",
       "      <td>58299</td>\n",
       "      <td>10385</td>\n",
       "    </tr>\n",
       "    <tr>\n",
       "      <th>96</th>\n",
       "      <td>Burnett_Lord_1886.txt</td>\n",
       "      <td>58698</td>\n",
       "      <td>8131</td>\n",
       "    </tr>\n",
       "    <tr>\n",
       "      <th>97</th>\n",
       "      <td>Braddon_Phantom_1883.txt</td>\n",
       "      <td>180676</td>\n",
       "      <td>22474</td>\n",
       "    </tr>\n",
       "    <tr>\n",
       "      <th>98</th>\n",
       "      <td>Gaskell_Ruth_1855.txt</td>\n",
       "      <td>161797</td>\n",
       "      <td>18148</td>\n",
       "    </tr>\n",
       "    <tr>\n",
       "      <th>99</th>\n",
       "      <td>Kipling_Captains_1896.txt</td>\n",
       "      <td>53467</td>\n",
       "      <td>11709</td>\n",
       "    </tr>\n",
       "  </tbody>\n",
       "</table>\n",
       "<p>100 rows × 3 columns</p>\n",
       "</div>"
      ],
      "text/plain": [
       "                        filename total_words unique_words\n",
       "0      Cbronte_Villette_1853.txt      196557        29084\n",
       "1        Forster_Angels_1905.txt       50477         9464\n",
       "2      Woolf_Lighthouse_1927.txt       70185        11157\n",
       "3     Meredith_Richmond_1871.txt      214985        28892\n",
       "4    Stevenson_Treasure_1883.txt       68448        10831\n",
       "..                           ...         ...          ...\n",
       "95  Chesterton_Thursday_1908.txt       58299        10385\n",
       "96         Burnett_Lord_1886.txt       58698         8131\n",
       "97      Braddon_Phantom_1883.txt      180676        22474\n",
       "98         Gaskell_Ruth_1855.txt      161797        18148\n",
       "99     Kipling_Captains_1896.txt       53467        11709\n",
       "\n",
       "[100 rows x 3 columns]"
      ]
     },
     "execution_count": 6,
     "metadata": {},
     "output_type": "execute_result"
    }
   ],
   "source": [
    "# check df\n",
    "df_word_counts"
   ]
  },
  {
   "cell_type": "code",
   "execution_count": 7,
   "metadata": {},
   "outputs": [],
   "source": [
    "# save as csv file\n",
    "df_word_counts.to_csv(\"word_counts.csv\")\n",
    "\n",
    "# if file should not be saved in current directory, it could be specifie here and then used in .to_csv()\n",
    "# csv_path = os.path.join(\"..\", \"data\", \"100_english_novels\", \"word_counts.csv\")"
   ]
  },
  {
   "cell_type": "code",
   "execution_count": null,
   "metadata": {},
   "outputs": [],
   "source": []
  }
 ],
 "metadata": {
  "kernelspec": {
   "display_name": "lang101",
   "language": "python",
   "name": "lang101"
  },
  "language_info": {
   "codemirror_mode": {
    "name": "ipython",
    "version": 3
   },
   "file_extension": ".py",
   "mimetype": "text/x-python",
   "name": "python",
   "nbconvert_exporter": "python",
   "pygments_lexer": "ipython3",
   "version": "3.6.9"
  }
 },
 "nbformat": 4,
 "nbformat_minor": 4
}
