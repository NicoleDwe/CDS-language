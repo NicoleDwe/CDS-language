{
 "cells": [
  {
   "cell_type": "markdown",
   "metadata": {},
   "source": [
    "# Assignment 1: Basic Scripting with Python (word counts)"
   ]
  },
  {
   "cell_type": "markdown",
   "metadata": {},
   "source": [
    "Nicole Dwenger - 2021/02/03"
   ]
  },
  {
   "cell_type": "markdown",
   "metadata": {},
   "source": [
    "---"
   ]
  },
  {
   "cell_type": "markdown",
   "metadata": {},
   "source": [
    "### Instructions"
   ]
  },
  {
   "cell_type": "markdown",
   "metadata": {},
   "source": [
    "__Basic scripting with Python__\n",
    "Using the corpus called 100-english-novels found on the cds-language GitHub repo, write a Python programme which does the following:\n",
    "- Calculate the total word count for each novel\n",
    "- Calculate the total number of unique words for each novel\n",
    "- Save result as a single file consisting of three columns: filename, total_words, unique_words\n",
    "\n",
    "__General instructions__\n",
    "- For this exercise, you can upload either a standalone script OR a Jupyter Notebook\n",
    "- Save your script as word_counts.py OR word_counts.ipynb\n",
    "- You can either upload the script/notebook here or push to GitHub and include a link - or both!\n",
    "- Your code should be clearly documented in a way that allows others to easily follow the structure of your script.\n",
    "- Similarly, remember to use descriptive variable names! A name like word_count is more readable than wcnt.\n",
    "\n",
    "__Purpose__\n",
    "This assignment is designed to test that you have a understanding of:\n",
    "- how to structure, document, and share a Python script;\n",
    "- how to effectively make use of native Python data structures, functions, and flow control;\n",
    "- how to load, save, and process text files."
   ]
  },
  {
   "cell_type": "markdown",
   "metadata": {},
   "source": [
    "-------"
   ]
  },
  {
   "cell_type": "markdown",
   "metadata": {},
   "source": [
    "### Dependencies and Data"
   ]
  },
  {
   "cell_type": "code",
   "execution_count": 1,
   "metadata": {},
   "outputs": [],
   "source": [
    "# load necessary dependencies\n",
    "import os\n",
    "from pathlib import Path\n",
    "import pandas as pd"
   ]
  },
  {
   "cell_type": "code",
   "execution_count": 2,
   "metadata": {},
   "outputs": [],
   "source": [
    "# define path to load data files\n",
    "data_path = os.path.join(\"..\", \"data\", \"100_english_novels\", \"corpus\")"
   ]
  },
  {
   "cell_type": "markdown",
   "metadata": {},
   "source": [
    "### Interatig over files to save information in a dataframe"
   ]
  },
  {
   "cell_type": "code",
   "execution_count": 4,
   "metadata": {},
   "outputs": [],
   "source": [
    "# create empty data frame so that data can be saved in it\n",
    "df_word_counts = pd.DataFrame(columns=[\"filename\", \"total_words\", \"unique_words\"])"
   ]
  },
  {
   "cell_type": "code",
   "execution_count": 5,
   "metadata": {},
   "outputs": [],
   "source": [
    "# loop to get number of words, unqiue words and save info in df_word_counts\n",
    "for filepath in Path(data_path).glob(\"*.txt\"):\n",
    "    with open(filepath, \"r\", encoding = \"utf-8\") as file:\n",
    "        \n",
    "        # read file and get info\n",
    "        loaded_text = file.read() # read file \n",
    "        filename = Path(filepath).name # extract filename\n",
    "        words = loaded_text.split() # split into words\n",
    "        unique_words = set(words) # keep the unique words\n",
    "       \n",
    "        # append row with info to df\n",
    "        df_word_counts = df_word_counts.append({\"filename\": filename, \n",
    "                                                \"total_words\": len(words), \n",
    "                                                \"unique_words\": len(unique_words)}, ignore_index = True)"
   ]
  },
  {
   "cell_type": "code",
   "execution_count": 6,
   "metadata": {},
   "outputs": [],
   "source": [
    "# check df\n",
    "df_word_counts"
   ]
  },
  {
   "cell_type": "code",
   "execution_count": 80,
   "metadata": {},
   "outputs": [],
   "source": [
    "# save as csv file\n",
    "df_word_counts.to_csv(\"word_counts.csv\")\n",
    "\n",
    "# if file should not be saved in current directory, it could be specifie here and then used in .to_csv()\n",
    "# csv_path = os.path.join(\"..\", \"data\", \"100_english_novels\", \"word_counts.csv\")"
   ]
  }
 ],
 "metadata": {
  "kernelspec": {
   "display_name": "lang101",
   "language": "python",
   "name": "lang101"
  },
  "language_info": {
   "codemirror_mode": {
    "name": "ipython",
    "version": 3
   },
   "file_extension": ".py",
   "mimetype": "text/x-python",
   "name": "python",
   "nbconvert_exporter": "python",
   "pygments_lexer": "ipython3",
   "version": "3.6.9"
  }
 },
 "nbformat": 4,
 "nbformat_minor": 4
}
