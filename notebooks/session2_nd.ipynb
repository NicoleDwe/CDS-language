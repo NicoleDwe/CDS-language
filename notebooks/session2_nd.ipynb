{
 "cells": [
  {
   "cell_type": "markdown",
   "metadata": {},
   "source": [
    "# Session 2"
   ]
  },
  {
   "cell_type": "markdown",
   "metadata": {},
   "source": [
    "## A simple concordance function (KWIC)"
   ]
  },
  {
   "cell_type": "code",
   "execution_count": 1,
   "metadata": {},
   "outputs": [],
   "source": [
    "import re #regex library\n",
    "import string #string"
   ]
  },
  {
   "cell_type": "code",
   "execution_count": 2,
   "metadata": {},
   "outputs": [],
   "source": [
    "text = \"It was the best of times, it was the worst of times\""
   ]
  },
  {
   "cell_type": "code",
   "execution_count": 3,
   "metadata": {},
   "outputs": [
    {
     "data": {
      "text/plain": [
       "['It',\n",
       " 'was',\n",
       " 'the',\n",
       " 'best',\n",
       " 'of',\n",
       " 'times,',\n",
       " 'it',\n",
       " 'was',\n",
       " 'the',\n",
       " 'worst',\n",
       " 'of',\n",
       " 'times']"
      ]
     },
     "execution_count": 3,
     "metadata": {},
     "output_type": "execute_result"
    }
   ],
   "source": [
    "text.split()"
   ]
  },
  {
   "cell_type": "code",
   "execution_count": 6,
   "metadata": {},
   "outputs": [],
   "source": [
    "# Quick regex tokeniser for splitting files\n",
    "def tokenize(input_string):\n",
    "    # Split on any non-alphanumeric character\n",
    "    tokenizer = re.compile(r\"\\W+\") # interested in alphanumeric characters\n",
    "    # Tokenize\n",
    "    token_list = tokenizer.split(input_string)\n",
    "    # Return token list\n",
    "    return token_list"
   ]
  },
  {
   "cell_type": "code",
   "execution_count": 7,
   "metadata": {},
   "outputs": [],
   "source": [
    "tokenized = tokenize(text)"
   ]
  },
  {
   "cell_type": "code",
   "execution_count": 8,
   "metadata": {},
   "outputs": [
    {
     "data": {
      "text/plain": [
       "['It',\n",
       " 'was',\n",
       " 'the',\n",
       " 'best',\n",
       " 'of',\n",
       " 'times',\n",
       " 'it',\n",
       " 'was',\n",
       " 'the',\n",
       " 'worst',\n",
       " 'of',\n",
       " 'times']"
      ]
     },
     "execution_count": 8,
     "metadata": {},
     "output_type": "execute_result"
    }
   ],
   "source": [
    "tokenized"
   ]
  },
  {
   "cell_type": "markdown",
   "metadata": {},
   "source": [
    "## Code along task: Creating a KWIC function"
   ]
  },
  {
   "cell_type": "code",
   "execution_count": 9,
   "metadata": {},
   "outputs": [],
   "source": [
    "def kwic(text, keyword, window_size = 50):\n",
    "    for match in re.finditer(keyword, text):\n",
    "        # first character of match\n",
    "        word_start = match.start()\n",
    "        # last character of match\n",
    "        word_end = match.end()\n",
    "        \n",
    "        # left window\n",
    "        left_window_start = max(0, word_start - window_size)\n",
    "        left_window = text[left_window_start:word_start]\n",
    "        \n",
    "        # right window\n",
    "        right_window_end = word_end + window_size\n",
    "        right_window = text[word_end:right_window_end]\n",
    "        \n",
    "        # print line\n",
    "        line = f\"{left_window} {keyword} {right_window}\"\n",
    "        \n",
    "        print(line)"
   ]
  },
  {
   "cell_type": "markdown",
   "metadata": {},
   "source": [
    "## Collocation"
   ]
  },
  {
   "cell_type": "markdown",
   "metadata": {},
   "source": [
    "u = our keyword <br>\n",
    "v = a collocate <br>\n",
    "\n",
    "O11 = our keyword && our collocate"
   ]
  },
  {
   "cell_type": "markdown",
   "metadata": {},
   "source": [
    "- u = how often keyworkd occurs\n",
    "- v = how often collocate appears with u\n",
    "- C1 = v & !u \n",
    "- R1 = u & v\n",
    "- N = total number of words"
   ]
  },
  {
   "cell_type": "code",
   "execution_count": null,
   "metadata": {},
   "outputs": [],
   "source": []
  }
 ],
 "metadata": {
  "kernelspec": {
   "display_name": "lang101",
   "language": "python",
   "name": "lang101"
  },
  "language_info": {
   "codemirror_mode": {
    "name": "ipython",
    "version": 3
   },
   "file_extension": ".py",
   "mimetype": "text/x-python",
   "name": "python",
   "nbconvert_exporter": "python",
   "pygments_lexer": "ipython3",
   "version": "3.6.9"
  }
 },
 "nbformat": 4,
 "nbformat_minor": 4
}
