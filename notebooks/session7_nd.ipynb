{
 "cells": [
  {
   "cell_type": "markdown",
   "metadata": {},
   "source": [
    "## Import packages\n"
   ]
  },
  {
   "cell_type": "code",
   "execution_count": 2,
   "metadata": {},
   "outputs": [],
   "source": [
    "# system tools\n",
    "import os\n",
    "import sys\n",
    "sys.path.append(os.path.join(\"..\"))\n",
    "\n",
    "# data munging tools\n",
    "import pandas as pd\n",
    "import utils.classifier_utils as clf\n",
    "\n",
    "# Machine learning stuff\n",
    "from sklearn.model_selection import train_test_split\n",
    "from sklearn.feature_extraction.text import CountVectorizer, TfidfVectorizer\n",
    "from sklearn.linear_model import LogisticRegression\n",
    "from sklearn.model_selection import ShuffleSplit\n",
    "from sklearn import metrics\n",
    "\n",
    "# Visualisation\n",
    "import matplotlib.pyplot as plt\n",
    "import seaborn as sns"
   ]
  },
  {
   "cell_type": "markdown",
   "metadata": {},
   "source": [
    "## Reading in the data"
   ]
  },
  {
   "cell_type": "code",
   "execution_count": 4,
   "metadata": {},
   "outputs": [],
   "source": [
    "filename = os.path.join(\"..\", \"data\", \"fake_or_real_news.csv\")\n",
    "\n",
    "DATA = pd.read_csv(filename, index_col=0)"
   ]
  },
  {
   "cell_type": "markdown",
   "metadata": {},
   "source": [
    "__Inspect data__"
   ]
  },
  {
   "cell_type": "code",
   "execution_count": 5,
   "metadata": {},
   "outputs": [
    {
     "data": {
      "text/html": [
       "<div>\n",
       "<style scoped>\n",
       "    .dataframe tbody tr th:only-of-type {\n",
       "        vertical-align: middle;\n",
       "    }\n",
       "\n",
       "    .dataframe tbody tr th {\n",
       "        vertical-align: top;\n",
       "    }\n",
       "\n",
       "    .dataframe thead th {\n",
       "        text-align: right;\n",
       "    }\n",
       "</style>\n",
       "<table border=\"1\" class=\"dataframe\">\n",
       "  <thead>\n",
       "    <tr style=\"text-align: right;\">\n",
       "      <th></th>\n",
       "      <th>title</th>\n",
       "      <th>text</th>\n",
       "      <th>label</th>\n",
       "    </tr>\n",
       "  </thead>\n",
       "  <tbody>\n",
       "    <tr>\n",
       "      <th>3294</th>\n",
       "      <td>Mitch McConnell Pledges To Avoid Debt Ceiling ...</td>\n",
       "      <td>WASHINGTON -- Senate Majority Leader Mitch McC...</td>\n",
       "      <td>REAL</td>\n",
       "    </tr>\n",
       "    <tr>\n",
       "      <th>4655</th>\n",
       "      <td>Conway touts Trump's 'drain the swamp' message...</td>\n",
       "      <td>\"We are behind. She has some advantages,\" Kell...</td>\n",
       "      <td>REAL</td>\n",
       "    </tr>\n",
       "    <tr>\n",
       "      <th>6749</th>\n",
       "      <td>Josh Fox on Dakota Access Pipeline Standoff: ‘...</td>\n",
       "      <td>Josh Fox on Dakota Access Pipeline Standoff: ‘...</td>\n",
       "      <td>FAKE</td>\n",
       "    </tr>\n",
       "    <tr>\n",
       "      <th>2834</th>\n",
       "      <td>Iraq launches operation against ISIS in Anbar ...</td>\n",
       "      <td>The Iraqi government -- supported by Shiite mi...</td>\n",
       "      <td>REAL</td>\n",
       "    </tr>\n",
       "    <tr>\n",
       "      <th>7953</th>\n",
       "      <td>Retired Bishop Explains Why The Catholic Churc...</td>\n",
       "      <td>Without a doubt, religion is one of the more d...</td>\n",
       "      <td>FAKE</td>\n",
       "    </tr>\n",
       "    <tr>\n",
       "      <th>3177</th>\n",
       "      <td>Fireworks erupt between Trump and Bush, Rubio ...</td>\n",
       "      <td>Sparks flew at the toughest and liveliest GOP ...</td>\n",
       "      <td>REAL</td>\n",
       "    </tr>\n",
       "    <tr>\n",
       "      <th>1696</th>\n",
       "      <td>Donald Trump attacks force Jeb Bush out of his...</td>\n",
       "      <td>(CNN) The aggressive Jeb Bush that his allies ...</td>\n",
       "      <td>REAL</td>\n",
       "    </tr>\n",
       "    <tr>\n",
       "      <th>1551</th>\n",
       "      <td>Why Putin praised Trump (Opinion)</td>\n",
       "      <td>Christian Whiton is a former deputy special en...</td>\n",
       "      <td>REAL</td>\n",
       "    </tr>\n",
       "    <tr>\n",
       "      <th>10523</th>\n",
       "      <td>Russian warships ready to strike terrorists ne...</td>\n",
       "      <td>Russian warships ready to strike terrorists ne...</td>\n",
       "      <td>FAKE</td>\n",
       "    </tr>\n",
       "    <tr>\n",
       "      <th>1442</th>\n",
       "      <td>Donald Trump could 'shoot somebody and not los...</td>\n",
       "      <td>\"I could stand in the middle of 5th Avenue and...</td>\n",
       "      <td>REAL</td>\n",
       "    </tr>\n",
       "  </tbody>\n",
       "</table>\n",
       "</div>"
      ],
      "text/plain": [
       "                                                   title  \\\n",
       "3294   Mitch McConnell Pledges To Avoid Debt Ceiling ...   \n",
       "4655   Conway touts Trump's 'drain the swamp' message...   \n",
       "6749   Josh Fox on Dakota Access Pipeline Standoff: ‘...   \n",
       "2834   Iraq launches operation against ISIS in Anbar ...   \n",
       "7953   Retired Bishop Explains Why The Catholic Churc...   \n",
       "3177   Fireworks erupt between Trump and Bush, Rubio ...   \n",
       "1696   Donald Trump attacks force Jeb Bush out of his...   \n",
       "1551                   Why Putin praised Trump (Opinion)   \n",
       "10523  Russian warships ready to strike terrorists ne...   \n",
       "1442   Donald Trump could 'shoot somebody and not los...   \n",
       "\n",
       "                                                    text label  \n",
       "3294   WASHINGTON -- Senate Majority Leader Mitch McC...  REAL  \n",
       "4655   \"We are behind. She has some advantages,\" Kell...  REAL  \n",
       "6749   Josh Fox on Dakota Access Pipeline Standoff: ‘...  FAKE  \n",
       "2834   The Iraqi government -- supported by Shiite mi...  REAL  \n",
       "7953   Without a doubt, religion is one of the more d...  FAKE  \n",
       "3177   Sparks flew at the toughest and liveliest GOP ...  REAL  \n",
       "1696   (CNN) The aggressive Jeb Bush that his allies ...  REAL  \n",
       "1551   Christian Whiton is a former deputy special en...  REAL  \n",
       "10523  Russian warships ready to strike terrorists ne...  FAKE  \n",
       "1442   \"I could stand in the middle of 5th Avenue and...  REAL  "
      ]
     },
     "execution_count": 5,
     "metadata": {},
     "output_type": "execute_result"
    }
   ],
   "source": [
    "DATA.sample(10)"
   ]
  },
  {
   "cell_type": "code",
   "execution_count": 6,
   "metadata": {},
   "outputs": [
    {
     "data": {
      "text/plain": [
       "(6335, 3)"
      ]
     },
     "execution_count": 6,
     "metadata": {},
     "output_type": "execute_result"
    }
   ],
   "source": [
    "DATA.shape"
   ]
  },
  {
   "cell_type": "markdown",
   "metadata": {},
   "source": [
    "<br>\n",
    "Q: How many examples of each label do we have?"
   ]
  },
  {
   "cell_type": "code",
   "execution_count": 7,
   "metadata": {},
   "outputs": [
    {
     "data": {
      "text/plain": [
       "REAL    3171\n",
       "FAKE    3164\n",
       "Name: label, dtype: int64"
      ]
     },
     "execution_count": 7,
     "metadata": {},
     "output_type": "execute_result"
    }
   ],
   "source": [
    "DATA[\"label\"].value_counts()"
   ]
  },
  {
   "cell_type": "markdown",
   "metadata": {},
   "source": [
    "## Create balanced data"
   ]
  },
  {
   "cell_type": "markdown",
   "metadata": {},
   "source": [
    "We can use the function ```balance``` to create a more even dataset."
   ]
  },
  {
   "cell_type": "code",
   "execution_count": 9,
   "metadata": {},
   "outputs": [],
   "source": [
    "DATA_balanced = clf.balance(DATA, 1000)"
   ]
  },
  {
   "cell_type": "code",
   "execution_count": 10,
   "metadata": {},
   "outputs": [
    {
     "data": {
      "text/plain": [
       "(2000, 3)"
      ]
     },
     "execution_count": 10,
     "metadata": {},
     "output_type": "execute_result"
    }
   ],
   "source": [
    "DATA_balanced.shape"
   ]
  },
  {
   "cell_type": "markdown",
   "metadata": {},
   "source": [
    "<br>\n",
    "\n",
    "What do the label counts look like now?"
   ]
  },
  {
   "cell_type": "code",
   "execution_count": 11,
   "metadata": {},
   "outputs": [
    {
     "data": {
      "text/plain": [
       "FAKE    1000\n",
       "REAL    1000\n",
       "Name: label, dtype: int64"
      ]
     },
     "execution_count": 11,
     "metadata": {},
     "output_type": "execute_result"
    }
   ],
   "source": [
    "DATA_balanced[\"label\"].value_counts()"
   ]
  },
  {
   "cell_type": "markdown",
   "metadata": {},
   "source": [
    "<br>\n",
    "\n",
    "Let's now create new variables called ```texts``` and ```lables```, taking the data out of the dataframe so that we can mess around with them."
   ]
  },
  {
   "cell_type": "code",
   "execution_count": 12,
   "metadata": {},
   "outputs": [],
   "source": [
    "texts = DATA_balanced[\"text\"]\n",
    "labels = DATA_balanced[\"label\"]"
   ]
  },
  {
   "cell_type": "markdown",
   "metadata": {},
   "source": [
    "# Train-test split"
   ]
  },
  {
   "cell_type": "markdown",
   "metadata": {},
   "source": [
    "I've included most of the 'hard work' for you here already, because these are long cells which might be easy to mess up while live-coding.\n",
    "\n",
    "Instead, we'll discuss what's happening. If you have questions, don't be shy!"
   ]
  },
  {
   "cell_type": "code",
   "execution_count": 13,
   "metadata": {},
   "outputs": [],
   "source": [
    "X_train, X_test, y_train, y_test = train_test_split(texts,           # texts for the model\n",
    "                                                    labels,          # classification labels\n",
    "                                                    test_size=0.2,   # create an 80/20 split\n",
    "                                                    random_state=42) # random state for reproducibility"
   ]
  },
  {
   "cell_type": "markdown",
   "metadata": {},
   "source": [
    "# Vectorizing and Feature Extraction"
   ]
  },
  {
   "cell_type": "markdown",
   "metadata": {},
   "source": [
    "Vectorization. What is it and why are all the cool kids talking about it?\n",
    "\n",
    "Essentially, vectorization is the process whereby textual or visual data is 'transformed' into some kind of numerical representation. One of the easiest ways to do this is to simple count how often individual features appear in a document.\n",
    "\n",
    "Take the following text: \n",
    "<br><br>\n",
    "<i>My father’s family name being Pirrip, and my Christian name Philip, my infant tongue could make of both names nothing longer or more explicit than Pip. So, I called myself Pip, and came to be called Pip.</i>\n",
    "<br>\n",
    "\n",
    "We can convert this into the following vector\n",
    "\n",
    "| and | be | being | both | called | came | christian | could | explicit | family | father | i | infant | longer | make | more | my | myself | name | names | nothing | of | or | philip | pip | pirrip | s | so | than | to | tongue|\n",
    "| --- | --- | --- | --- | --- | --- | --- | --- | --- | --- | --- | --- | --- | --- | --- | --- | --- | --- | --- | --- | --- | --- | --- | --- | --- | --- | --- | --- | --- | --- |  --- |\n",
    "| 2 | 1 | 1 | 1 | 2 | 1 | 1 | 1 | 1 | 1 | 1 | 1 | 1 | 1 | 1 | 1 | 3 | 1 | 2 | 1 | 1 | 1 | 1 | 1 | 3 | 1 | 1 | 1 | 1 | 1 | 1 |\n",
    "\n",
    "<br>\n",
    "Our textual data is hence reduced to a jumbled-up 'vector' of numbers, known somewhat quaintly as a <i>bag-of-words</i>.\n",
    "<br>\n",
    "<br>\n",
    "To do this in practice, we first need to create a vectorizer. \n",
    "\n",
    "Tfidf vectors tend to be better for training classifiers. Why might that be?"
   ]
  },
  {
   "cell_type": "markdown",
   "metadata": {},
   "source": [
    "__Create vectorizer object__"
   ]
  },
  {
   "cell_type": "code",
   "execution_count": 14,
   "metadata": {},
   "outputs": [],
   "source": [
    "vectorizer = TfidfVectorizer(ngram_range = (1,2),     # unigrams and bigrams (1 word and 2 word units)\n",
    "                                                      # ngrams: tokens that appear together in the data\n",
    "                                                      # find every possible combinations of uni and bigrams\n",
    "                             lowercase =  True,       # why use lowercase?\n",
    "                             max_df = 0.95,           # remove very common words (in more than 95% of docs - remove)\n",
    "                             min_df = 0.05,           # remove very rare words (in less than 5% of the docs - remove)\n",
    "                             max_features = 500)      # keep only top 500 features"
   ]
  },
  {
   "cell_type": "markdown",
   "metadata": {},
   "source": [
    "This vectorizer is then used to turn all of our documents into a vector of numbers, instead of text."
   ]
  },
  {
   "cell_type": "code",
   "execution_count": 15,
   "metadata": {},
   "outputs": [],
   "source": [
    "# First we do it for our training data...\n",
    "# Taking dataset + vectoriser, fitting and transforming, set of feature for the training data\n",
    "X_train_feats = vectorizer.fit_transform(X_train)\n",
    "#... then we do it for our test data\n",
    "# set of features for the test data\n",
    "X_test_feats = vectorizer.transform(X_test)\n",
    "# We can also create a list of the feature names. \n",
    "# unigrams and bigrams the vectoriser has extracted from the data \n",
    "feature_names = vectorizer.get_feature_names()"
   ]
  },
  {
   "cell_type": "markdown",
   "metadata": {},
   "source": [
    "<br>\n",
    "Q: What are the first 20 features that are picked out by the CountVectorizer?"
   ]
  },
  {
   "cell_type": "code",
   "execution_count": 21,
   "metadata": {},
   "outputs": [
    {
     "data": {
      "text/plain": [
       "['000',\n",
       " '10',\n",
       " '11',\n",
       " '2016',\n",
       " 'about',\n",
       " 'about the',\n",
       " 'according',\n",
       " 'according to',\n",
       " 'across',\n",
       " 'act']"
      ]
     },
     "execution_count": 21,
     "metadata": {},
     "output_type": "execute_result"
    }
   ],
   "source": [
    "feature_names[:10]"
   ]
  },
  {
   "cell_type": "markdown",
   "metadata": {},
   "source": [
    "## Classifying and predicting"
   ]
  },
  {
   "cell_type": "markdown",
   "metadata": {},
   "source": [
    "We now have to 'fit' the classifier to our data. This means that the classifier takes our data and finds correlations between features and labels.\n",
    "\n",
    "These correlations are then the *model* that the classifier learns about our data. This model can then be used to predict the label for new, unseen data."
   ]
  },
  {
   "cell_type": "code",
   "execution_count": 25,
   "metadata": {},
   "outputs": [],
   "source": [
    "classifier = LogisticRegression(random_state=42).fit(X_train_feats, y_train)"
   ]
  },
  {
   "cell_type": "markdown",
   "metadata": {},
   "source": [
    "Q: How do we use the classifier to make predictions?"
   ]
  },
  {
   "cell_type": "code",
   "execution_count": 26,
   "metadata": {},
   "outputs": [],
   "source": [
    "y_pred = classifier.predict(X_test_feats)"
   ]
  },
  {
   "cell_type": "markdown",
   "metadata": {},
   "source": [
    "Q: What are the predictions for the first 20 examples of the test data?"
   ]
  },
  {
   "cell_type": "code",
   "execution_count": 28,
   "metadata": {},
   "outputs": [
    {
     "name": "stdout",
     "output_type": "stream",
     "text": [
      "['REAL' 'FAKE' 'REAL' 'REAL' 'REAL' 'REAL' 'FAKE' 'FAKE' 'FAKE' 'FAKE'\n",
      " 'FAKE' 'REAL' 'REAL' 'REAL' 'FAKE' 'FAKE' 'FAKE' 'FAKE' 'REAL' 'REAL']\n"
     ]
    }
   ],
   "source": [
    "print(y_pred[0:20])"
   ]
  },
  {
   "cell_type": "markdown",
   "metadata": {},
   "source": [
    "We can also inspect the model, in order to see which features are most informative when trying to predict a label. \n",
    "\n",
    "To do this, we can use the ```show_features``` function that I defined earlier - how convenient!"
   ]
  },
  {
   "cell_type": "markdown",
   "metadata": {},
   "source": [
    "Q: What are the most informative features? Use ```show_features```to find out!"
   ]
  },
  {
   "cell_type": "code",
   "execution_count": 29,
   "metadata": {
    "scrolled": false
   },
   "outputs": [
    {
     "name": "stdout",
     "output_type": "stream",
     "text": [
      "FAKE\t\t\t\tREAL\n",
      "\n",
      "-3.0028\thillary        \t\t2.4555\tcandidates     \n",
      "-2.7079\tby             \t\t2.1282\tobama          \n",
      "-2.5798\toctober        \t\t1.9688\tcruz           \n",
      "-2.0649\trussia         \t\t1.9556\tbut            \n",
      "-1.8576\telection       \t\t1.9427\tpercent        \n",
      "-1.7010\tyou            \t\t1.8979\trepublican     \n",
      "-1.6763\tof             \t\t1.8918\tsanders        \n",
      "-1.6574\tus             \t\t1.8248\thouse          \n",
      "-1.5915\tnovember       \t\t1.7683\tdebate         \n",
      "-1.5807\tcom            \t\t1.7133\tin             \n",
      "-1.5546\tyour           \t\t1.6456\tpresident      \n",
      "-1.4203\tthe us         \t\t1.6308\twhite          \n",
      "-1.4138\tfbi            \t\t1.5475\trepublicans    \n",
      "-1.3796\temail          \t\t1.5442\tconservative   \n",
      "-1.1788\tworld          \t\t1.5191\tadministration \n",
      "-1.1041\trussian        \t\t1.5127\tiran           \n",
      "-1.0744\twar            \t\t1.4950\tthat           \n",
      "-1.0611\tsee            \t\t1.4482\tamong          \n",
      "-1.0591\thillary clinton\t\t1.4402\twho            \n"
     ]
    }
   ],
   "source": [
    "clf.show_features(vectorizer, y_train, classifier, n=20)"
   ]
  },
  {
   "cell_type": "markdown",
   "metadata": {},
   "source": [
    "## Evaluate"
   ]
  },
  {
   "cell_type": "markdown",
   "metadata": {},
   "source": [
    "The computer has now learned a model of how our data behaves. Well done, computer! But is it accurate?"
   ]
  },
  {
   "cell_type": "markdown",
   "metadata": {},
   "source": [
    "Q: How do we measure accuracy?"
   ]
  },
  {
   "cell_type": "markdown",
   "metadata": {},
   "source": [
    "<img src=\"../img/confusionMatrix.jpg\">"
   ]
  },
  {
   "cell_type": "markdown",
   "metadata": {},
   "source": [
    "Thankfully, libraries like ```sklearn``` come with a range of tools that are useful for evaluating models.\n",
    "\n",
    "One way to do this, is to use a confusion matrix, similar to what you see above."
   ]
  },
  {
   "cell_type": "markdown",
   "metadata": {},
   "source": [
    "Q: What should go in the argument called ```labels```?"
   ]
  },
  {
   "cell_type": "code",
   "execution_count": 30,
   "metadata": {},
   "outputs": [
    {
     "data": {
      "image/png": "[encoded data removed]",
      "text/plain": [
       "<Figure size 720x720 with 1 Axes>"
      ]
     },
     "metadata": {
      "needs_background": "light"
     },
     "output_type": "display_data"
    }
   ],
   "source": [
    "clf.plot_cm(y_test, y_pred, normalized=False)"
   ]
  },
  {
   "cell_type": "markdown",
   "metadata": {},
   "source": [
    "We can also do some quick calculations, in order to assess just how well our model performs."
   ]
  },
  {
   "cell_type": "code",
   "execution_count": 31,
   "metadata": {
    "scrolled": true
   },
   "outputs": [
    {
     "name": "stdout",
     "output_type": "stream",
     "text": [
      "              precision    recall  f1-score   support\n",
      "\n",
      "        FAKE       0.83      0.83      0.83       199\n",
      "        REAL       0.83      0.83      0.83       201\n",
      "\n",
      "    accuracy                           0.83       400\n",
      "   macro avg       0.83      0.83      0.83       400\n",
      "weighted avg       0.83      0.83      0.83       400\n",
      "\n"
     ]
    }
   ],
   "source": [
    "classifier_metrics = metrics.classification_report(y_test, y_pred)\n",
    "print(classifier_metrics)"
   ]
  },
  {
   "cell_type": "markdown",
   "metadata": {},
   "source": [
    "## Cross validation and further evaluation"
   ]
  },
  {
   "cell_type": "markdown",
   "metadata": {},
   "source": [
    "One thing we can't be sure of is that our model performance is simply related to how the train-test split is made.\n",
    "\n",
    "To try to mitigate this, we can perform cross-validation, in order to test a number of different train-test splits and finding the average scores.\n",
    "\n",
    "Let's do this on the full dataset"
   ]
  },
  {
   "cell_type": "code",
   "execution_count": 32,
   "metadata": {},
   "outputs": [],
   "source": [
    "X_vect = vectorizer.fit_transform(texts)"
   ]
  },
  {
   "cell_type": "markdown",
   "metadata": {},
   "source": [
    "The first plot is probably the most interesting. Some terminology:\n",
    "\n",
    "- If two curves are \"close to each other\" and both of them but have a low score, the model suffers from an underfitting problem (High Bias)\n",
    "\n",
    "- If there are large gaps between two curves, then the model suffer from an overfitting problem (High Variance)\n"
   ]
  },
  {
   "cell_type": "code",
   "execution_count": 33,
   "metadata": {},
   "outputs": [
    {
     "data": {
      "image/png": "[encoded data removed]",
      "text/plain": [
       "<Figure size 1440x360 with 3 Axes>"
      ]
     },
     "metadata": {
      "needs_background": "light"
     },
     "output_type": "display_data"
    }
   ],
   "source": [
    "title = \"Learning Curves (Logistic Regression)\"\n",
    "cv = ShuffleSplit(n_splits=100, test_size=0.2, random_state=0)\n",
    "\n",
    "estimator = LogisticRegression(random_state=42)\n",
    "clf.plot_learning_curve(estimator, title, X_vect, labels, cv=cv, n_jobs=4)"
   ]
  },
  {
   "cell_type": "markdown",
   "metadata": {},
   "source": [
    "- The second plot shows the times required by the models to train with various sizes of training dataset. \n",
    "- The third plot show how much time was required to train the models for each training sizes."
   ]
  },
  {
   "cell_type": "code",
   "execution_count": null,
   "metadata": {},
   "outputs": [],
   "source": []
  }
 ],
 "metadata": {
  "kernelspec": {
   "display_name": "lang101",
   "language": "python",
   "name": "lang101"
  },
  "language_info": {
   "codemirror_mode": {
    "name": "ipython",
    "version": 3
   },
   "file_extension": ".py",
   "mimetype": "text/x-python",
   "name": "python",
   "nbconvert_exporter": "python",
   "pygments_lexer": "ipython3",
   "version": "3.6.9"
  }
 },
 "nbformat": 4,
 "nbformat_minor": 4
}
