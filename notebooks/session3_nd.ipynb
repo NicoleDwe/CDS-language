{
 "cells": [
  {
   "cell_type": "markdown",
   "metadata": {},
   "source": [
    "# Introduction to Spacy"
   ]
  },
  {
   "cell_type": "markdown",
   "metadata": {},
   "source": [
    "### Initializing spacy"
   ]
  },
  {
   "cell_type": "code",
   "execution_count": 1,
   "metadata": {},
   "outputs": [],
   "source": [
    "import spacy"
   ]
  },
  {
   "cell_type": "code",
   "execution_count": 2,
   "metadata": {},
   "outputs": [],
   "source": [
    "# load the language model\n",
    "nlp = spacy.load(\"en_core_web_sm\")"
   ]
  },
  {
   "cell_type": "code",
   "execution_count": 4,
   "metadata": {},
   "outputs": [
    {
     "data": {
      "text/plain": [
       "spacy.lang.en.English"
      ]
     },
     "execution_count": 4,
     "metadata": {},
     "output_type": "execute_result"
    }
   ],
   "source": [
    "type(nlp) # spacy object"
   ]
  },
  {
   "cell_type": "code",
   "execution_count": 5,
   "metadata": {},
   "outputs": [],
   "source": [
    "# create a Doc object (this is where all the magic happend already)\n",
    "doc = nlp(\"Exposure to air pollution significantly increases the risk of infertility, according to the first study to examine the danger to the general population.\")"
   ]
  },
  {
   "cell_type": "code",
   "execution_count": 7,
   "metadata": {},
   "outputs": [
    {
     "data": {
      "text/plain": [
       "spacy.tokens.doc.Doc"
      ]
     },
     "execution_count": 7,
     "metadata": {},
     "output_type": "execute_result"
    }
   ],
   "source": [
    "type(doc)"
   ]
  },
  {
   "cell_type": "code",
   "execution_count": 8,
   "metadata": {},
   "outputs": [
    {
     "name": "stdout",
     "output_type": "stream",
     "text": [
      "Exposure to air pollution significantly increases the risk of infertility, according to the first study to examine the danger to the general population.\n"
     ]
    }
   ],
   "source": [
    "print(doc)"
   ]
  },
  {
   "cell_type": "markdown",
   "metadata": {},
   "source": [
    "__Tokens__"
   ]
  },
  {
   "cell_type": "code",
   "execution_count": 10,
   "metadata": {},
   "outputs": [
    {
     "name": "stdout",
     "output_type": "stream",
     "text": [
      "Exposure\n",
      "to\n",
      "air\n",
      "pollution\n",
      "significantly\n",
      "increases\n",
      "the\n",
      "risk\n",
      "of\n",
      "infertility\n",
      ",\n",
      "according\n",
      "to\n",
      "the\n",
      "first\n",
      "study\n",
      "to\n",
      "examine\n",
      "the\n",
      "danger\n",
      "to\n",
      "the\n",
      "general\n",
      "population\n",
      ".\n"
     ]
    }
   ],
   "source": [
    "for token in doc:\n",
    "    print(token.text)"
   ]
  },
  {
   "cell_type": "code",
   "execution_count": 16,
   "metadata": {},
   "outputs": [
    {
     "name": "stdout",
     "output_type": "stream",
     "text": [
      "Exposure NOUN NN\n",
      "to ADP IN\n",
      "air NOUN NN\n",
      "pollution NOUN NN\n",
      "significantly ADV RB\n",
      "increases VERB VBZ\n",
      "the DET DT\n",
      "risk NOUN NN\n",
      "of ADP IN\n",
      "infertility NOUN NN\n",
      ", PUNCT ,\n",
      "according VERB VBG\n",
      "to ADP IN\n",
      "the DET DT\n",
      "first ADJ JJ\n",
      "study NOUN NN\n",
      "to PART TO\n",
      "examine VERB VB\n",
      "the DET DT\n",
      "danger NOUN NN\n",
      "to ADP IN\n",
      "the DET DT\n",
      "general ADJ JJ\n",
      "population NOUN NN\n",
      ". PUNCT .\n"
     ]
    }
   ],
   "source": [
    "for token in doc:\n",
    "    print(token.text, token.pos_, token.tag_)"
   ]
  },
  {
   "cell_type": "code",
   "execution_count": null,
   "metadata": {},
   "outputs": [],
   "source": []
  }
 ],
 "metadata": {
  "kernelspec": {
   "display_name": "lang101",
   "language": "python",
   "name": "lang101"
  },
  "language_info": {
   "codemirror_mode": {
    "name": "ipython",
    "version": 3
   },
   "file_extension": ".py",
   "mimetype": "text/x-python",
   "name": "python",
   "nbconvert_exporter": "python",
   "pygments_lexer": "ipython3",
   "version": "3.6.9"
  }
 },
 "nbformat": 4,
 "nbformat_minor": 4
}
