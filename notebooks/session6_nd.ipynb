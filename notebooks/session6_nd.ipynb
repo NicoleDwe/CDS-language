{
 "cells": [
  {
   "cell_type": "markdown",
   "metadata": {},
   "source": [
    "## Session 5: Network Analysis"
   ]
  },
  {
   "cell_type": "code",
   "execution_count": 1,
   "metadata": {},
   "outputs": [],
   "source": [
    "# import dependencies \n",
    "import os\n",
    "\n",
    "# data anaylsis \n",
    "import pandas as pd\n",
    "from tqdm import tqdm # feedback (progression bar)\n",
    "\n",
    "# NLP\n",
    "import spacy\n",
    "nlp = spacy.load(\"en_core_web_sm\")"
   ]
  },
  {
   "cell_type": "markdown",
   "metadata": {},
   "source": [
    "### Read data"
   ]
  },
  {
   "cell_type": "code",
   "execution_count": 2,
   "metadata": {},
   "outputs": [],
   "source": [
    "input_file = os.path.join(\"..\", \"data\", \"fake_or_real_news.csv\")"
   ]
  },
  {
   "cell_type": "code",
   "execution_count": 3,
   "metadata": {},
   "outputs": [],
   "source": [
    "data = pd.read_csv(input_file)"
   ]
  },
  {
   "cell_type": "markdown",
   "metadata": {},
   "source": [
    "__Filter dataframe__"
   ]
  },
  {
   "cell_type": "code",
   "execution_count": 4,
   "metadata": {},
   "outputs": [],
   "source": [
    "real_df = data[data[\"label\"]==\"REAL\"][\"text\"]"
   ]
  },
  {
   "cell_type": "code",
   "execution_count": 5,
   "metadata": {},
   "outputs": [
    {
     "data": {
      "text/plain": [
       "2800    Trump gained 8 points since August to land at ...\n",
       "4466    Sen. Marco Rubio (R-Fla.) said on Sunday that ...\n",
       "Name: text, dtype: object"
      ]
     },
     "execution_count": 5,
     "metadata": {},
     "output_type": "execute_result"
    }
   ],
   "source": [
    "real_df.sample(2)"
   ]
  },
  {
   "cell_type": "markdown",
   "metadata": {},
   "source": [
    "### Extract entities"
   ]
  },
  {
   "cell_type": "code",
   "execution_count": 7,
   "metadata": {},
   "outputs": [
    {
     "name": "stderr",
     "output_type": "stream",
     "text": [
      "100%|██████████| 3171/3171 [08:08<00:00,  6.49it/s]\n"
     ]
    }
   ],
   "source": [
    "post_entities = []\n",
    "\n",
    "for post in tqdm(real_df):\n",
    "    # create temporary list\n",
    "    tmp_list = []\n",
    "    # create spacy doc object\n",
    "    doc = nlp(post)\n",
    "    # for every named entitiy in the doc\n",
    "    for entitiy in doc.ents:\n",
    "        if entitiy.label_ == \"PERSON\":\n",
    "            tmp_list.append(entitiy.text)\n",
    "    # add tmp_list to main list\n",
    "    post_entities.append(tmp_list)"
   ]
  },
  {
   "cell_type": "markdown",
   "metadata": {},
   "source": [
    "### Create edgelist using `itertools.combinations()`"
   ]
  },
  {
   "cell_type": "code",
   "execution_count": 8,
   "metadata": {},
   "outputs": [],
   "source": [
    "from itertools import combinations"
   ]
  },
  {
   "cell_type": "code",
   "execution_count": 9,
   "metadata": {},
   "outputs": [],
   "source": [
    "edgelist = []\n",
    "\n",
    "# iterate over every document \n",
    "for doc in post_entities:\n",
    "    # take all combinations in the doc in pairs\n",
    "    edges = list(combinations(doc, 2))\n",
    "    # for each combination (pair)\n",
    "    for edge in edges:\n",
    "        # append this to final edge list\n",
    "        edgelist.append(tuple(sorted(edge)))\n",
    "        # sorted sorts them so that we don't have duplicates in different order"
   ]
  },
  {
   "cell_type": "code",
   "execution_count": 16,
   "metadata": {},
   "outputs": [
    {
     "name": "stdout",
     "output_type": "stream",
     "text": [
      "['Jane', 'Mary']\n",
      "['Jane', 'Mary']\n"
     ]
    }
   ],
   "source": [
    "print(sorted((\"Jane\", \"Mary\")))\n",
    "print(sorted((\"Mary\", \"Jane\")))"
   ]
  },
  {
   "cell_type": "markdown",
   "metadata": {},
   "source": [
    "### Counting edges"
   ]
  },
  {
   "cell_type": "code",
   "execution_count": 10,
   "metadata": {},
   "outputs": [],
   "source": [
    "from collections import Counter"
   ]
  },
  {
   "cell_type": "code",
   "execution_count": 20,
   "metadata": {},
   "outputs": [
    {
     "data": {
      "text/plain": [
       "[(('Clinton', 'Clinton'), 1861),\n",
       " (('Cruz', 'Cruz'), 742),\n",
       " (('Clinton', 'Trump'), 658),\n",
       " (('Clinton', 'Cruz'), 541),\n",
       " (('Cruz', 'Trump'), 410),\n",
       " (('Clinton', 'Hillary Clinton'), 379),\n",
       " (('Clinton', 'Donald Trump'), 326),\n",
       " (('Bush', 'Jeb'), 279),\n",
       " (('Bush', 'Bush'), 258),\n",
       " ((\"Bill Clinton's\", 'Clinton'), 207)]"
      ]
     },
     "execution_count": 20,
     "metadata": {},
     "output_type": "execute_result"
    }
   ],
   "source": [
    "# count all edges, and return the 10 most common\n",
    "Counter(edgelist).most_common(10)"
   ]
  },
  {
   "cell_type": "code",
   "execution_count": 12,
   "metadata": {},
   "outputs": [],
   "source": [
    "counted_edges = []\n",
    "\n",
    "for pair, weight in Counter(edgelist).items():\n",
    "    nodeA = pair[0]\n",
    "    nodeB = pair[1]\n",
    "    counted_edges.append((nodeA, nodeB, weight))\n",
    "    \n",
    "# weight = total occurance they appear togehter across the data"
   ]
  },
  {
   "cell_type": "code",
   "execution_count": null,
   "metadata": {},
   "outputs": [],
   "source": [
    "len(counted_edges)"
   ]
  },
  {
   "cell_type": "markdown",
   "metadata": {},
   "source": [
    "### Create dataframe"
   ]
  },
  {
   "cell_type": "code",
   "execution_count": 13,
   "metadata": {},
   "outputs": [],
   "source": [
    "edges_df = pd.DataFrame(counted_edges, columns=[\"nodeA\", \"nodeB\", \"weight\"])"
   ]
  },
  {
   "cell_type": "code",
   "execution_count": null,
   "metadata": {},
   "outputs": [],
   "source": [
    "filtered_df = edges_df[edges_df[\"weight\"] > 500]"
   ]
  },
  {
   "cell_type": "code",
   "execution_count": 14,
   "metadata": {},
   "outputs": [],
   "source": [
    "# save dataframe for assignment\n",
    "edges_df.to_csv(\"../data/weighted_edgelist_realnews.csv\")"
   ]
  },
  {
   "cell_type": "markdown",
   "metadata": {},
   "source": [
    "### Create network"
   ]
  },
  {
   "cell_type": "code",
   "execution_count": null,
   "metadata": {},
   "outputs": [],
   "source": [
    "import networkx as nx\n",
    "import matplotlib.pyplot as plt"
   ]
  },
  {
   "cell_type": "code",
   "execution_count": null,
   "metadata": {},
   "outputs": [],
   "source": [
    "G = nx.from_pandas_edgelist(filtered_df, \"nodeA\", \"nodeB\", [\"weight\"])"
   ]
  },
  {
   "cell_type": "code",
   "execution_count": null,
   "metadata": {},
   "outputs": [],
   "source": [
    "# plot it\n",
    "pos = nx.nx_agraph.graphviz_layout(G, prog = \"neato\")"
   ]
  },
  {
   "cell_type": "code",
   "execution_count": null,
   "metadata": {},
   "outputs": [],
   "source": [
    "# draw\n",
    "nx.draw(G, pos, with_labels=True, node_size=20, font_size=10)\n",
    "# save \n",
    "plt.savefig(\"network.png\", dpi=300, bbox_inches=\"tight\")"
   ]
  },
  {
   "cell_type": "markdown",
   "metadata": {},
   "source": [
    "### Centrality measures"
   ]
  },
  {
   "cell_type": "code",
   "execution_count": null,
   "metadata": {},
   "outputs": [],
   "source": [
    "bc_metric = nx.betweenness_centrality(G)\n",
    "ev_metric = nx.eigenvector_centrality(G)\n",
    "bc_metric"
   ]
  },
  {
   "cell_type": "code",
   "execution_count": null,
   "metadata": {},
   "outputs": [],
   "source": [
    "pd.DataFrame(bc_metric.items(), columns=[\"node\", \"betweennnes\"]).sort_values(\"betweennnes\", ascending=False)"
   ]
  },
  {
   "cell_type": "code",
   "execution_count": null,
   "metadata": {},
   "outputs": [],
   "source": [
    "pd.DataFrame(ev_metric.items(), columns=[\"node\", \"eigenvector\"]).sort_values(\"eigenvector\", ascending=False)"
   ]
  },
  {
   "cell_type": "code",
   "execution_count": null,
   "metadata": {},
   "outputs": [],
   "source": [
    "pd.read_csv(\"../assignments/4-network/output/centrality_measures.csv\")"
   ]
  },
  {
   "cell_type": "code",
   "execution_count": null,
   "metadata": {},
   "outputs": [],
   "source": []
  }
 ],
 "metadata": {
  "kernelspec": {
   "display_name": "lang101",
   "language": "python",
   "name": "lang101"
  },
  "language_info": {
   "codemirror_mode": {
    "name": "ipython",
    "version": 3
   },
   "file_extension": ".py",
   "mimetype": "text/x-python",
   "name": "python",
   "nbconvert_exporter": "python",
   "pygments_lexer": "ipython3",
   "version": "3.6.9"
  }
 },
 "nbformat": 4,
 "nbformat_minor": 4
}
