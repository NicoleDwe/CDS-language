{
 "cells": [
  {
   "cell_type": "markdown",
   "metadata": {},
   "source": [
    "# Assignment 2: String processing with Python\n",
    "\n",
    "Using a text corpus found on the cds-language GitHub repo or a corpus of your own found on a site such as Kaggle, write a Python script which calculates collocates for a specific keyword.\n",
    "\n",
    "- The script should take a directory of text files, a keyword, and a window size (number of words) as input parameters, and an output file called out/{filename}.csv\n",
    "- These parameters can be defined in the script itself\n",
    "- Find out how often each word collocates with the target across the corpus\n",
    "- Use this to calculate mutual information between the target word and all collocates across the corpus\n",
    "- Save result as a single file consisting of four columns: collocate, raw_frequency, MI\n",
    "\n",
    "BONUS CHALLENGE: Use argparse to take inputs from the command line as parameters\n",
    "\n",
    "### General instructions\n",
    "- For this assignment, you should upload a standalone .py script which can be executed from the command line.\n",
    "- Save your script as collocation.py\n",
    "- Make sure to include a requirements.txt file and your data\n",
    "- You can either upload the scripts here or push to GitHub and include a link - or both!\n",
    "- Your code should be clearly documented in a way that allows others to easily follow the structure of your script and to use them from the command line\n",
    "\n",
    "### Purpose\n",
    "This assignment is designed to test that you have a understanding of:\n",
    "- how to structure, document, and share a Python scripts;\n",
    "- how to effectively make use of native Python packages for string processing;\n",
    "- how to extract basic linguistic information from large quantities of text, specifically in relation to a specific \n",
    "target keyword"
   ]
  },
  {
   "cell_type": "markdown",
   "metadata": {},
   "source": [
    "---"
   ]
  },
  {
   "cell_type": "code",
   "execution_count": null,
   "metadata": {},
   "outputs": [],
   "source": []
  }
 ],
 "metadata": {
  "kernelspec": {
   "display_name": "lang101",
   "language": "python",
   "name": "lang101"
  },
  "language_info": {
   "codemirror_mode": {
    "name": "ipython",
    "version": 3
   },
   "file_extension": ".py",
   "mimetype": "text/x-python",
   "name": "python",
   "nbconvert_exporter": "python",
   "pygments_lexer": "ipython3",
   "version": "3.6.9"
  }
 },
 "nbformat": 4,
 "nbformat_minor": 4
}
